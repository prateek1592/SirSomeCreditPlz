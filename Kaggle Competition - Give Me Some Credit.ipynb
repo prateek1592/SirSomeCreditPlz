{
 "cells": [
  {
   "cell_type": "markdown",
   "metadata": {},
   "source": [
    "# Estimating Borrower Credit Worthiness\n",
    "\n",
    "This is an [old Kaggle competition](kaggle.com/c/GiveMeSomeCredit) that expired 6 years ago that still garners quite a bit of interest - perhaps due to the dataset being fairly interesting and it being one of the few widely followed credit estimation problems. This is my hack at the same.\n",
    "\n",
    "Since this was meant to be a learning experience, I refrained as much as possible from the competition's discussion boards, getting further ideas (mentioned at the end of this notebook). A lot of work went into this project (**40 odd Kaggle submissions**) before the final cut seen here; non-trivial tasks are listed below, ordered by occurence:\n",
    "\n",
    "1. Feature visualizations, modifications (like log) to deal with highly right-skewed features (*didn't work*)\n",
    "2. Naive Bayes classification (*dismal results*)\n",
    "3. Random Forest trials with hyper-parameter optimizations (*large improvement in AUC*)\n",
    "4. Feature engineering trial and error for 2 new features, using Random Forests\n",
    "5. Further feature engineering (incuding some insane ones, with a train of thought akin to opium-fuelled Romantic-era poets)\n",
    "6. Model evaluation metrics tried - logloss, Kappa, Accuracy, AUC (finally settling on AUC, since that is the metric being used by competition judgers)\n",
    "7. Switch to boosted trees from Random Forests for training\n",
    "\n",
    "The final model output led to an *Implied Rank of 7 out of 924 participants* (sorted by AUC) in Kaggle's private leaderboard. Not too bad for a week's work (and a much simpler model than the winning entries)"
   ]
  },
  {
   "cell_type": "code",
   "execution_count": 1,
   "metadata": {},
   "outputs": [
    {
     "data": {
      "text/html": [
       "<dl class=dl-horizontal>\n",
       "\t<dt>SeriousDlqin2yrs</dt>\n",
       "\t\t<dd>0</dd>\n",
       "\t<dt>RevolvingUtilizationOfUnsecuredLines</dt>\n",
       "\t\t<dd>0</dd>\n",
       "\t<dt>age</dt>\n",
       "\t\t<dd>0</dd>\n",
       "\t<dt>NumberOfTime30.59DaysPastDueNotWorse</dt>\n",
       "\t\t<dd>0</dd>\n",
       "\t<dt>DebtRatio</dt>\n",
       "\t\t<dd>0</dd>\n",
       "\t<dt>MonthlyIncome</dt>\n",
       "\t\t<dd>0.198</dd>\n",
       "\t<dt>NumberOfOpenCreditLinesAndLoans</dt>\n",
       "\t\t<dd>0</dd>\n",
       "\t<dt>NumberOfTimes90DaysLate</dt>\n",
       "\t\t<dd>0</dd>\n",
       "\t<dt>NumberRealEstateLoansOrLines</dt>\n",
       "\t\t<dd>0</dd>\n",
       "\t<dt>NumberOfTime60.89DaysPastDueNotWorse</dt>\n",
       "\t\t<dd>0</dd>\n",
       "\t<dt>NumberOfDependents</dt>\n",
       "\t\t<dd>0.026</dd>\n",
       "</dl>\n"
      ],
      "text/latex": [
       "\\begin{description*}\n",
       "\\item[SeriousDlqin2yrs] 0\n",
       "\\item[RevolvingUtilizationOfUnsecuredLines] 0\n",
       "\\item[age] 0\n",
       "\\item[NumberOfTime30.59DaysPastDueNotWorse] 0\n",
       "\\item[DebtRatio] 0\n",
       "\\item[MonthlyIncome] 0.198\n",
       "\\item[NumberOfOpenCreditLinesAndLoans] 0\n",
       "\\item[NumberOfTimes90DaysLate] 0\n",
       "\\item[NumberRealEstateLoansOrLines] 0\n",
       "\\item[NumberOfTime60.89DaysPastDueNotWorse] 0\n",
       "\\item[NumberOfDependents] 0.026\n",
       "\\end{description*}\n"
      ],
      "text/markdown": [
       "SeriousDlqin2yrs\n",
       ":   0RevolvingUtilizationOfUnsecuredLines\n",
       ":   0age\n",
       ":   0NumberOfTime30.59DaysPastDueNotWorse\n",
       ":   0DebtRatio\n",
       ":   0MonthlyIncome\n",
       ":   0.198NumberOfOpenCreditLinesAndLoans\n",
       ":   0NumberOfTimes90DaysLate\n",
       ":   0NumberRealEstateLoansOrLines\n",
       ":   0NumberOfTime60.89DaysPastDueNotWorse\n",
       ":   0NumberOfDependents\n",
       ":   0.026\n",
       "\n"
      ],
      "text/plain": [
       "                    SeriousDlqin2yrs RevolvingUtilizationOfUnsecuredLines \n",
       "                               0.000                                0.000 \n",
       "                                 age NumberOfTime30.59DaysPastDueNotWorse \n",
       "                               0.000                                0.000 \n",
       "                           DebtRatio                        MonthlyIncome \n",
       "                               0.000                                0.198 \n",
       "     NumberOfOpenCreditLinesAndLoans              NumberOfTimes90DaysLate \n",
       "                               0.000                                0.000 \n",
       "        NumberRealEstateLoansOrLines NumberOfTime60.89DaysPastDueNotWorse \n",
       "                               0.000                                0.000 \n",
       "                  NumberOfDependents \n",
       "                               0.026 "
      ]
     },
     "metadata": {},
     "output_type": "display_data"
    }
   ],
   "source": [
    "set.seed(105)\n",
    "\n",
    "# Setting working directory, loading packages and data\n",
    "setwd(\"C:/Users/Pratik/Desktop/Learning/Kaggle/SirThodaCreditPlz/\")\n",
    "suppressWarnings(suppressMessages(library(randomForest)))\n",
    "suppressWarnings(suppressMessages(library(xgboost)))\n",
    "suppressWarnings(suppressMessages(library(pROC)))\n",
    "suppressWarnings(suppressMessages(library(caret)))\n",
    "suppressWarnings(suppressMessages(library(plyr)))\n",
    "suppressWarnings(suppressMessages(library(dplyr)))\n",
    "\n",
    "data <- read.csv(\"train.csv\")\n",
    "round(colSums(is.na(data)) / nrow(data), 3)"
   ]
  },
  {
   "cell_type": "markdown",
   "metadata": {},
   "source": [
    "There are some issues with regards to missing values for incomes and dependents. (~20% and ~2.6% of total rows, respectively)"
   ]
  },
  {
   "cell_type": "code",
   "execution_count": 2,
   "metadata": {},
   "outputs": [
    {
     "data": {
      "text/html": [
       "<table>\n",
       "<thead><tr><th></th><th scope=col>SeriousDlqin2yrs</th><th scope=col>RevolvingUtilizationOfUnsecuredLines</th><th scope=col>age</th><th scope=col>NumberOfTime30.59DaysPastDueNotWorse</th><th scope=col>DebtRatio</th><th scope=col>MonthlyIncome</th><th scope=col>NumberOfOpenCreditLinesAndLoans</th><th scope=col>NumberOfTimes90DaysLate</th><th scope=col>NumberRealEstateLoansOrLines</th><th scope=col>NumberOfTime60.89DaysPastDueNotWorse</th><th scope=col>NumberOfDependents</th></tr></thead>\n",
       "<tbody>\n",
       "\t<tr><th scope=row>149976</th><td>0          </td><td>0.022088398</td><td>58         </td><td>0          </td><td>2716       </td><td>NA         </td><td> 8         </td><td>0          </td><td>2          </td><td>0          </td><td>0          </td></tr>\n",
       "\t<tr><th scope=row>149977</th><td>0          </td><td>0.000627439</td><td>76         </td><td>0          </td><td>  60       </td><td>NA         </td><td> 5         </td><td>0          </td><td>0          </td><td>0          </td><td>0          </td></tr>\n",
       "\t<tr><th scope=row>149978</th><td>0          </td><td>0.236449864</td><td>29         </td><td>0          </td><td> 349       </td><td>NA         </td><td> 3         </td><td>0          </td><td>0          </td><td>0          </td><td>0          </td></tr>\n",
       "\t<tr><th scope=row>149985</th><td>0          </td><td>0.037548123</td><td>84         </td><td>0          </td><td>  25       </td><td>NA         </td><td> 5         </td><td>0          </td><td>0          </td><td>0          </td><td>0          </td></tr>\n",
       "\t<tr><th scope=row>149993</th><td>0          </td><td>0.871975945</td><td>50         </td><td>0          </td><td>4132       </td><td>NA         </td><td>11         </td><td>0          </td><td>1          </td><td>0          </td><td>3          </td></tr>\n",
       "\t<tr><th scope=row>149998</th><td>0          </td><td>0.246043918</td><td>58         </td><td>0          </td><td>3870       </td><td>NA         </td><td>18         </td><td>0          </td><td>1          </td><td>0          </td><td>0          </td></tr>\n",
       "</tbody>\n",
       "</table>\n"
      ],
      "text/latex": [
       "\\begin{tabular}{r|lllllllllll}\n",
       "  & SeriousDlqin2yrs & RevolvingUtilizationOfUnsecuredLines & age & NumberOfTime30.59DaysPastDueNotWorse & DebtRatio & MonthlyIncome & NumberOfOpenCreditLinesAndLoans & NumberOfTimes90DaysLate & NumberRealEstateLoansOrLines & NumberOfTime60.89DaysPastDueNotWorse & NumberOfDependents\\\\\n",
       "\\hline\n",
       "\t149976 & 0           & 0.022088398 & 58          & 0           & 2716        & NA          &  8          & 0           & 2           & 0           & 0          \\\\\n",
       "\t149977 & 0           & 0.000627439 & 76          & 0           &   60        & NA          &  5          & 0           & 0           & 0           & 0          \\\\\n",
       "\t149978 & 0           & 0.236449864 & 29          & 0           &  349        & NA          &  3          & 0           & 0           & 0           & 0          \\\\\n",
       "\t149985 & 0           & 0.037548123 & 84          & 0           &   25        & NA          &  5          & 0           & 0           & 0           & 0          \\\\\n",
       "\t149993 & 0           & 0.871975945 & 50          & 0           & 4132        & NA          & 11          & 0           & 1           & 0           & 3          \\\\\n",
       "\t149998 & 0           & 0.246043918 & 58          & 0           & 3870        & NA          & 18          & 0           & 1           & 0           & 0          \\\\\n",
       "\\end{tabular}\n"
      ],
      "text/markdown": [
       "\n",
       "| <!--/--> | SeriousDlqin2yrs | RevolvingUtilizationOfUnsecuredLines | age | NumberOfTime30.59DaysPastDueNotWorse | DebtRatio | MonthlyIncome | NumberOfOpenCreditLinesAndLoans | NumberOfTimes90DaysLate | NumberRealEstateLoansOrLines | NumberOfTime60.89DaysPastDueNotWorse | NumberOfDependents | \n",
       "|---|---|---|---|---|---|\n",
       "| 149976 | 0           | 0.022088398 | 58          | 0           | 2716        | NA          |  8          | 0           | 2           | 0           | 0           | \n",
       "| 149977 | 0           | 0.000627439 | 76          | 0           |   60        | NA          |  5          | 0           | 0           | 0           | 0           | \n",
       "| 149978 | 0           | 0.236449864 | 29          | 0           |  349        | NA          |  3          | 0           | 0           | 0           | 0           | \n",
       "| 149985 | 0           | 0.037548123 | 84          | 0           |   25        | NA          |  5          | 0           | 0           | 0           | 0           | \n",
       "| 149993 | 0           | 0.871975945 | 50          | 0           | 4132        | NA          | 11          | 0           | 1           | 0           | 3           | \n",
       "| 149998 | 0           | 0.246043918 | 58          | 0           | 3870        | NA          | 18          | 0           | 1           | 0           | 0           | \n",
       "\n",
       "\n"
      ],
      "text/plain": [
       "       SeriousDlqin2yrs RevolvingUtilizationOfUnsecuredLines age\n",
       "149976 0                0.022088398                          58 \n",
       "149977 0                0.000627439                          76 \n",
       "149978 0                0.236449864                          29 \n",
       "149985 0                0.037548123                          84 \n",
       "149993 0                0.871975945                          50 \n",
       "149998 0                0.246043918                          58 \n",
       "       NumberOfTime30.59DaysPastDueNotWorse DebtRatio MonthlyIncome\n",
       "149976 0                                    2716      NA           \n",
       "149977 0                                      60      NA           \n",
       "149978 0                                     349      NA           \n",
       "149985 0                                      25      NA           \n",
       "149993 0                                    4132      NA           \n",
       "149998 0                                    3870      NA           \n",
       "       NumberOfOpenCreditLinesAndLoans NumberOfTimes90DaysLate\n",
       "149976  8                              0                      \n",
       "149977  5                              0                      \n",
       "149978  3                              0                      \n",
       "149985  5                              0                      \n",
       "149993 11                              0                      \n",
       "149998 18                              0                      \n",
       "       NumberRealEstateLoansOrLines NumberOfTime60.89DaysPastDueNotWorse\n",
       "149976 2                            0                                   \n",
       "149977 0                            0                                   \n",
       "149978 0                            0                                   \n",
       "149985 0                            0                                   \n",
       "149993 1                            0                                   \n",
       "149998 1                            0                                   \n",
       "       NumberOfDependents\n",
       "149976 0                 \n",
       "149977 0                 \n",
       "149978 0                 \n",
       "149985 0                 \n",
       "149993 3                 \n",
       "149998 0                 "
      ]
     },
     "metadata": {},
     "output_type": "display_data"
    }
   ],
   "source": [
    "rows_missing_income <- is.na(data$MonthlyIncome)\n",
    "tail(data[rows_missing_income,])"
   ]
  },
  {
   "cell_type": "markdown",
   "metadata": {},
   "source": [
    "An interesting trend seems to be that **for missing monthly incomes, debt ratios are large integers**, whereas for other cases, the ratios are look more like the percentages they should really be! Further analysis (in excel) confirms this pattern, and a hypothesis is constructed - *maybe, just MAYBE, someone has incorrectly entered the monthly incomes in the debt ratio column for 20% of total cases.* This would require feature correction as follows."
   ]
  },
  {
   "cell_type": "code",
   "execution_count": 3,
   "metadata": {
    "collapsed": true
   },
   "outputs": [],
   "source": [
    "data$MonthlyIncome[rows_missing_income] <- data$DebtRatio[rows_missing_income]"
   ]
  },
  {
   "cell_type": "markdown",
   "metadata": {},
   "source": [
    "Ceteris paribus, model performance was vastly better, after above feature modificatioDebt ratio for these cases is then estimated (for a lack of alternatives) as inverse of corrected income. Now, as for the dependents' missing value, thhe approach taken is to assign them no dependents (not as significant as income, since only 2.6% cases affected by this probem)"
   ]
  },
  {
   "cell_type": "code",
   "execution_count": 4,
   "metadata": {},
   "outputs": [
    {
     "data": {
      "text/html": [
       "<dl class=dl-horizontal>\n",
       "\t<dt>SeriousDlqin2yrs</dt>\n",
       "\t\t<dd>0</dd>\n",
       "\t<dt>RevolvingUtilizationOfUnsecuredLines</dt>\n",
       "\t\t<dd>0</dd>\n",
       "\t<dt>age</dt>\n",
       "\t\t<dd>0</dd>\n",
       "\t<dt>NumberOfTime30.59DaysPastDueNotWorse</dt>\n",
       "\t\t<dd>0</dd>\n",
       "\t<dt>DebtRatio</dt>\n",
       "\t\t<dd>0</dd>\n",
       "\t<dt>MonthlyIncome</dt>\n",
       "\t\t<dd>0</dd>\n",
       "\t<dt>NumberOfOpenCreditLinesAndLoans</dt>\n",
       "\t\t<dd>0</dd>\n",
       "\t<dt>NumberOfTimes90DaysLate</dt>\n",
       "\t\t<dd>0</dd>\n",
       "\t<dt>NumberRealEstateLoansOrLines</dt>\n",
       "\t\t<dd>0</dd>\n",
       "\t<dt>NumberOfTime60.89DaysPastDueNotWorse</dt>\n",
       "\t\t<dd>0</dd>\n",
       "\t<dt>NumberOfDependents</dt>\n",
       "\t\t<dd>0</dd>\n",
       "</dl>\n"
      ],
      "text/latex": [
       "\\begin{description*}\n",
       "\\item[SeriousDlqin2yrs] 0\n",
       "\\item[RevolvingUtilizationOfUnsecuredLines] 0\n",
       "\\item[age] 0\n",
       "\\item[NumberOfTime30.59DaysPastDueNotWorse] 0\n",
       "\\item[DebtRatio] 0\n",
       "\\item[MonthlyIncome] 0\n",
       "\\item[NumberOfOpenCreditLinesAndLoans] 0\n",
       "\\item[NumberOfTimes90DaysLate] 0\n",
       "\\item[NumberRealEstateLoansOrLines] 0\n",
       "\\item[NumberOfTime60.89DaysPastDueNotWorse] 0\n",
       "\\item[NumberOfDependents] 0\n",
       "\\end{description*}\n"
      ],
      "text/markdown": [
       "SeriousDlqin2yrs\n",
       ":   0RevolvingUtilizationOfUnsecuredLines\n",
       ":   0age\n",
       ":   0NumberOfTime30.59DaysPastDueNotWorse\n",
       ":   0DebtRatio\n",
       ":   0MonthlyIncome\n",
       ":   0NumberOfOpenCreditLinesAndLoans\n",
       ":   0NumberOfTimes90DaysLate\n",
       ":   0NumberRealEstateLoansOrLines\n",
       ":   0NumberOfTime60.89DaysPastDueNotWorse\n",
       ":   0NumberOfDependents\n",
       ":   0\n",
       "\n"
      ],
      "text/plain": [
       "                    SeriousDlqin2yrs RevolvingUtilizationOfUnsecuredLines \n",
       "                                   0                                    0 \n",
       "                                 age NumberOfTime30.59DaysPastDueNotWorse \n",
       "                                   0                                    0 \n",
       "                           DebtRatio                        MonthlyIncome \n",
       "                                   0                                    0 \n",
       "     NumberOfOpenCreditLinesAndLoans              NumberOfTimes90DaysLate \n",
       "                                   0                                    0 \n",
       "        NumberRealEstateLoansOrLines NumberOfTime60.89DaysPastDueNotWorse \n",
       "                                   0                                    0 \n",
       "                  NumberOfDependents \n",
       "                                   0 "
      ]
     },
     "metadata": {},
     "output_type": "display_data"
    }
   ],
   "source": [
    "data$DebtRatio[rows_missing_income] <- 1 / data$DebtRatio[rows_missing_income]\n",
    "data$NumberOfDependents[is.na(data$NumberOfDependents)] <- 0\n",
    "round(colSums(is.na(data)) / nrow(data), 3)   # Problem solved"
   ]
  },
  {
   "cell_type": "markdown",
   "metadata": {},
   "source": [
    "#### Moving on to training! \n",
    "\n",
    "A RandomForests run using above features was still not good enough, with max AUC scores of 0.81 v/s 0.8695 winning score. Two improvements that seemed like the next logical steps:\n",
    "* Using boosted trees (xgboost) over RFs (due to past experience in imbalanced class classification improvement by boosting)\n",
    "* Further parameter engineering\n",
    "\n",
    "Elaborating further on the second step, the ideas that popped up and were implemented are given below:\n",
    "1. Were I a betting man, I would say that monthly income per dependent seems important\n",
    "2. Low income, with high number of real estate loans or open credit lines could be construed as signs of a retail credit bubble\n",
    "3. A hybrid (weighted) delinquency measure for overdue days\n",
    "4. Old people likely to have pensions, social security that *might* not show up in monthly income\n",
    "5. Setting RevolvingUtilizationOfUnsecuredLines more than 1 (highly right-skewed feature), equal to 1\n",
    "6. [29/41 Rule for mortgage DTI](budgeting.thenest.com/calculate-29-41-qualifying-ratio-mortgage-loan-28249.html)\n",
    "7. Making rule for suspicious looking (large round numbers) RevolvingUtilizationOfUnsecuredLines\n",
    "8. [First digit of income](https://en.wikipedia.org/wiki/Benford%27s_law)\n",
    "9. Round number annual incomes, since probably a salaried individual!\n",
    "\n",
    "Above thoughts (in code form) are given below:"
   ]
  },
  {
   "cell_type": "code",
   "execution_count": 5,
   "metadata": {},
   "outputs": [
    {
     "data": {
      "text/html": [
       "20"
      ],
      "text/latex": [
       "20"
      ],
      "text/markdown": [
       "20"
      ],
      "text/plain": [
       "[1] 20"
      ]
     },
     "metadata": {},
     "output_type": "display_data"
    }
   ],
   "source": [
    "# 1\n",
    "data$IncomePerCapita <- data$MonthlyIncome / (1 + data$NumberOfDependents)\n",
    "\n",
    "# 2\n",
    "data$IncomePerLoanOrLine <- data$MonthlyIncome / (1 + data$NumberRealEstateLoansOrLines + \n",
    "                                                    data$NumberOfOpenCreditLinesAndLoans)\n",
    "\n",
    "# 3\n",
    "data$HybridDelinquent <- data$NumberOfTimes90DaysLate^2 +\n",
    "  data$NumberOfTime60.89DaysPastDueNotWorse^1.5 +\n",
    "  data$NumberOfTime30.59DaysPastDueNotWorse\n",
    "\n",
    "# 4\n",
    "data$old_age <- 1 * (data$age >= 60)\n",
    "\n",
    "# 5\n",
    "data$new_RevolvingUtilizationOfUnsecuredLines <- pmin(1, data$RevolvingUtilizationOfUnsecuredLines)\n",
    "\n",
    "# 6\n",
    "data$rule29 <- 1 * (data$DebtRatio >= 0.29 & data$DebtRatio < 0.41)\n",
    "data$rule41 <- 1 * (data$DebtRatio >= 0.41)\n",
    "\n",
    "# 7\n",
    "data$round_RevolvingUtilizationOfUnsecuredLines <- 1 * (data$RevolvingUtilizationOfUnsecuredLines > 0 & \n",
    "                                                          round(data$RevolvingUtilizationOfUnsecuredLines,0) == data$RevolvingUtilizationOfUnsecuredLines)\n",
    "\n",
    "# 8\n",
    "data$FirstDigitIncome <- as.numeric(substr(data$MonthlyIncome, 1, 1))\n",
    "\n",
    "# 9\n",
    "data$ProbablySalaried <- 1 * ((data$MonthlyIncome * 12) - floor(data$MonthlyIncome * 12 / 1000) * 1000 == 0)\n",
    "\n",
    "ncol(data %>% select(-c(SeriousDlqin2yrs)))"
   ]
  },
  {
   "cell_type": "markdown",
   "metadata": {},
   "source": [
    "Thus, there are 20 features overall, from 10 originally. Now that the feature engineering part of the two-pronged plan is out of the way, let's focus on getting [XGBoost](http://xgboost.readthedocs.io/en/latest/model.html) up and running. This is one of the few models which has consistently worked on class imbalance problems that I have faced, and hence, I brought this one up (no other fancy reason, if I am being candid).\n",
    "\n",
    "For exact steps required to set-up the problem, please refer the link above. The steps (in code) have been given below "
   ]
  },
  {
   "cell_type": "code",
   "execution_count": 6,
   "metadata": {},
   "outputs": [
    {
     "name": "stdout",
     "output_type": "stream",
     "text": [
      "+ Fold1: eta=0.05, max_depth=4, gamma=0.5, colsample_bytree=0.3, min_child_weight=1, subsample=1, nrounds=400 \n",
      "- Fold1: eta=0.05, max_depth=4, gamma=0.5, colsample_bytree=0.3, min_child_weight=1, subsample=1, nrounds=400 \n",
      "+ Fold1: eta=0.05, max_depth=4, gamma=0.5, colsample_bytree=0.3, min_child_weight=5, subsample=1, nrounds=400 \n",
      "- Fold1: eta=0.05, max_depth=4, gamma=0.5, colsample_bytree=0.3, min_child_weight=5, subsample=1, nrounds=400 \n",
      "+ Fold1: eta=0.05, max_depth=4, gamma=1.0, colsample_bytree=0.3, min_child_weight=1, subsample=1, nrounds=400 \n",
      "- Fold1: eta=0.05, max_depth=4, gamma=1.0, colsample_bytree=0.3, min_child_weight=1, subsample=1, nrounds=400 \n",
      "+ Fold1: eta=0.05, max_depth=4, gamma=1.0, colsample_bytree=0.3, min_child_weight=5, subsample=1, nrounds=400 \n",
      "- Fold1: eta=0.05, max_depth=4, gamma=1.0, colsample_bytree=0.3, min_child_weight=5, subsample=1, nrounds=400 \n",
      "+ Fold1: eta=0.05, max_depth=6, gamma=0.5, colsample_bytree=0.3, min_child_weight=1, subsample=1, nrounds=400 \n",
      "- Fold1: eta=0.05, max_depth=6, gamma=0.5, colsample_bytree=0.3, min_child_weight=1, subsample=1, nrounds=400 \n",
      "+ Fold1: eta=0.05, max_depth=6, gamma=0.5, colsample_bytree=0.3, min_child_weight=5, subsample=1, nrounds=400 \n",
      "- Fold1: eta=0.05, max_depth=6, gamma=0.5, colsample_bytree=0.3, min_child_weight=5, subsample=1, nrounds=400 \n",
      "+ Fold1: eta=0.05, max_depth=6, gamma=1.0, colsample_bytree=0.3, min_child_weight=1, subsample=1, nrounds=400 \n",
      "- Fold1: eta=0.05, max_depth=6, gamma=1.0, colsample_bytree=0.3, min_child_weight=1, subsample=1, nrounds=400 \n",
      "+ Fold1: eta=0.05, max_depth=6, gamma=1.0, colsample_bytree=0.3, min_child_weight=5, subsample=1, nrounds=400 \n",
      "- Fold1: eta=0.05, max_depth=6, gamma=1.0, colsample_bytree=0.3, min_child_weight=5, subsample=1, nrounds=400 \n",
      "+ Fold1: eta=0.05, max_depth=8, gamma=0.5, colsample_bytree=0.3, min_child_weight=1, subsample=1, nrounds=400 \n",
      "- Fold1: eta=0.05, max_depth=8, gamma=0.5, colsample_bytree=0.3, min_child_weight=1, subsample=1, nrounds=400 \n",
      "+ Fold1: eta=0.05, max_depth=8, gamma=0.5, colsample_bytree=0.3, min_child_weight=5, subsample=1, nrounds=400 \n",
      "- Fold1: eta=0.05, max_depth=8, gamma=0.5, colsample_bytree=0.3, min_child_weight=5, subsample=1, nrounds=400 \n",
      "+ Fold1: eta=0.05, max_depth=8, gamma=1.0, colsample_bytree=0.3, min_child_weight=1, subsample=1, nrounds=400 \n",
      "- Fold1: eta=0.05, max_depth=8, gamma=1.0, colsample_bytree=0.3, min_child_weight=1, subsample=1, nrounds=400 \n",
      "+ Fold1: eta=0.05, max_depth=8, gamma=1.0, colsample_bytree=0.3, min_child_weight=5, subsample=1, nrounds=400 \n",
      "- Fold1: eta=0.05, max_depth=8, gamma=1.0, colsample_bytree=0.3, min_child_weight=5, subsample=1, nrounds=400 \n",
      "+ Fold2: eta=0.05, max_depth=4, gamma=0.5, colsample_bytree=0.3, min_child_weight=1, subsample=1, nrounds=400 \n",
      "- Fold2: eta=0.05, max_depth=4, gamma=0.5, colsample_bytree=0.3, min_child_weight=1, subsample=1, nrounds=400 \n",
      "+ Fold2: eta=0.05, max_depth=4, gamma=0.5, colsample_bytree=0.3, min_child_weight=5, subsample=1, nrounds=400 \n",
      "- Fold2: eta=0.05, max_depth=4, gamma=0.5, colsample_bytree=0.3, min_child_weight=5, subsample=1, nrounds=400 \n",
      "+ Fold2: eta=0.05, max_depth=4, gamma=1.0, colsample_bytree=0.3, min_child_weight=1, subsample=1, nrounds=400 \n",
      "- Fold2: eta=0.05, max_depth=4, gamma=1.0, colsample_bytree=0.3, min_child_weight=1, subsample=1, nrounds=400 \n",
      "+ Fold2: eta=0.05, max_depth=4, gamma=1.0, colsample_bytree=0.3, min_child_weight=5, subsample=1, nrounds=400 \n",
      "- Fold2: eta=0.05, max_depth=4, gamma=1.0, colsample_bytree=0.3, min_child_weight=5, subsample=1, nrounds=400 \n",
      "+ Fold2: eta=0.05, max_depth=6, gamma=0.5, colsample_bytree=0.3, min_child_weight=1, subsample=1, nrounds=400 \n",
      "- Fold2: eta=0.05, max_depth=6, gamma=0.5, colsample_bytree=0.3, min_child_weight=1, subsample=1, nrounds=400 \n",
      "+ Fold2: eta=0.05, max_depth=6, gamma=0.5, colsample_bytree=0.3, min_child_weight=5, subsample=1, nrounds=400 \n",
      "- Fold2: eta=0.05, max_depth=6, gamma=0.5, colsample_bytree=0.3, min_child_weight=5, subsample=1, nrounds=400 \n",
      "+ Fold2: eta=0.05, max_depth=6, gamma=1.0, colsample_bytree=0.3, min_child_weight=1, subsample=1, nrounds=400 \n",
      "- Fold2: eta=0.05, max_depth=6, gamma=1.0, colsample_bytree=0.3, min_child_weight=1, subsample=1, nrounds=400 \n",
      "+ Fold2: eta=0.05, max_depth=6, gamma=1.0, colsample_bytree=0.3, min_child_weight=5, subsample=1, nrounds=400 \n",
      "- Fold2: eta=0.05, max_depth=6, gamma=1.0, colsample_bytree=0.3, min_child_weight=5, subsample=1, nrounds=400 \n",
      "+ Fold2: eta=0.05, max_depth=8, gamma=0.5, colsample_bytree=0.3, min_child_weight=1, subsample=1, nrounds=400 \n",
      "- Fold2: eta=0.05, max_depth=8, gamma=0.5, colsample_bytree=0.3, min_child_weight=1, subsample=1, nrounds=400 \n",
      "+ Fold2: eta=0.05, max_depth=8, gamma=0.5, colsample_bytree=0.3, min_child_weight=5, subsample=1, nrounds=400 \n",
      "- Fold2: eta=0.05, max_depth=8, gamma=0.5, colsample_bytree=0.3, min_child_weight=5, subsample=1, nrounds=400 \n",
      "+ Fold2: eta=0.05, max_depth=8, gamma=1.0, colsample_bytree=0.3, min_child_weight=1, subsample=1, nrounds=400 \n",
      "- Fold2: eta=0.05, max_depth=8, gamma=1.0, colsample_bytree=0.3, min_child_weight=1, subsample=1, nrounds=400 \n",
      "+ Fold2: eta=0.05, max_depth=8, gamma=1.0, colsample_bytree=0.3, min_child_weight=5, subsample=1, nrounds=400 \n",
      "- Fold2: eta=0.05, max_depth=8, gamma=1.0, colsample_bytree=0.3, min_child_weight=5, subsample=1, nrounds=400 \n",
      "+ Fold3: eta=0.05, max_depth=4, gamma=0.5, colsample_bytree=0.3, min_child_weight=1, subsample=1, nrounds=400 \n",
      "- Fold3: eta=0.05, max_depth=4, gamma=0.5, colsample_bytree=0.3, min_child_weight=1, subsample=1, nrounds=400 \n",
      "+ Fold3: eta=0.05, max_depth=4, gamma=0.5, colsample_bytree=0.3, min_child_weight=5, subsample=1, nrounds=400 \n",
      "- Fold3: eta=0.05, max_depth=4, gamma=0.5, colsample_bytree=0.3, min_child_weight=5, subsample=1, nrounds=400 \n",
      "+ Fold3: eta=0.05, max_depth=4, gamma=1.0, colsample_bytree=0.3, min_child_weight=1, subsample=1, nrounds=400 \n",
      "- Fold3: eta=0.05, max_depth=4, gamma=1.0, colsample_bytree=0.3, min_child_weight=1, subsample=1, nrounds=400 \n",
      "+ Fold3: eta=0.05, max_depth=4, gamma=1.0, colsample_bytree=0.3, min_child_weight=5, subsample=1, nrounds=400 \n",
      "- Fold3: eta=0.05, max_depth=4, gamma=1.0, colsample_bytree=0.3, min_child_weight=5, subsample=1, nrounds=400 \n",
      "+ Fold3: eta=0.05, max_depth=6, gamma=0.5, colsample_bytree=0.3, min_child_weight=1, subsample=1, nrounds=400 \n",
      "- Fold3: eta=0.05, max_depth=6, gamma=0.5, colsample_bytree=0.3, min_child_weight=1, subsample=1, nrounds=400 \n",
      "+ Fold3: eta=0.05, max_depth=6, gamma=0.5, colsample_bytree=0.3, min_child_weight=5, subsample=1, nrounds=400 \n",
      "- Fold3: eta=0.05, max_depth=6, gamma=0.5, colsample_bytree=0.3, min_child_weight=5, subsample=1, nrounds=400 \n",
      "+ Fold3: eta=0.05, max_depth=6, gamma=1.0, colsample_bytree=0.3, min_child_weight=1, subsample=1, nrounds=400 \n",
      "- Fold3: eta=0.05, max_depth=6, gamma=1.0, colsample_bytree=0.3, min_child_weight=1, subsample=1, nrounds=400 \n",
      "+ Fold3: eta=0.05, max_depth=6, gamma=1.0, colsample_bytree=0.3, min_child_weight=5, subsample=1, nrounds=400 \n",
      "- Fold3: eta=0.05, max_depth=6, gamma=1.0, colsample_bytree=0.3, min_child_weight=5, subsample=1, nrounds=400 \n",
      "+ Fold3: eta=0.05, max_depth=8, gamma=0.5, colsample_bytree=0.3, min_child_weight=1, subsample=1, nrounds=400 \n",
      "- Fold3: eta=0.05, max_depth=8, gamma=0.5, colsample_bytree=0.3, min_child_weight=1, subsample=1, nrounds=400 \n",
      "+ Fold3: eta=0.05, max_depth=8, gamma=0.5, colsample_bytree=0.3, min_child_weight=5, subsample=1, nrounds=400 \n",
      "- Fold3: eta=0.05, max_depth=8, gamma=0.5, colsample_bytree=0.3, min_child_weight=5, subsample=1, nrounds=400 \n",
      "+ Fold3: eta=0.05, max_depth=8, gamma=1.0, colsample_bytree=0.3, min_child_weight=1, subsample=1, nrounds=400 \n",
      "- Fold3: eta=0.05, max_depth=8, gamma=1.0, colsample_bytree=0.3, min_child_weight=1, subsample=1, nrounds=400 \n",
      "+ Fold3: eta=0.05, max_depth=8, gamma=1.0, colsample_bytree=0.3, min_child_weight=5, subsample=1, nrounds=400 \n",
      "- Fold3: eta=0.05, max_depth=8, gamma=1.0, colsample_bytree=0.3, min_child_weight=5, subsample=1, nrounds=400 \n",
      "+ Fold4: eta=0.05, max_depth=4, gamma=0.5, colsample_bytree=0.3, min_child_weight=1, subsample=1, nrounds=400 \n",
      "- Fold4: eta=0.05, max_depth=4, gamma=0.5, colsample_bytree=0.3, min_child_weight=1, subsample=1, nrounds=400 \n",
      "+ Fold4: eta=0.05, max_depth=4, gamma=0.5, colsample_bytree=0.3, min_child_weight=5, subsample=1, nrounds=400 \n",
      "- Fold4: eta=0.05, max_depth=4, gamma=0.5, colsample_bytree=0.3, min_child_weight=5, subsample=1, nrounds=400 \n",
      "+ Fold4: eta=0.05, max_depth=4, gamma=1.0, colsample_bytree=0.3, min_child_weight=1, subsample=1, nrounds=400 \n",
      "- Fold4: eta=0.05, max_depth=4, gamma=1.0, colsample_bytree=0.3, min_child_weight=1, subsample=1, nrounds=400 \n",
      "+ Fold4: eta=0.05, max_depth=4, gamma=1.0, colsample_bytree=0.3, min_child_weight=5, subsample=1, nrounds=400 \n",
      "- Fold4: eta=0.05, max_depth=4, gamma=1.0, colsample_bytree=0.3, min_child_weight=5, subsample=1, nrounds=400 \n",
      "+ Fold4: eta=0.05, max_depth=6, gamma=0.5, colsample_bytree=0.3, min_child_weight=1, subsample=1, nrounds=400 \n",
      "- Fold4: eta=0.05, max_depth=6, gamma=0.5, colsample_bytree=0.3, min_child_weight=1, subsample=1, nrounds=400 \n",
      "+ Fold4: eta=0.05, max_depth=6, gamma=0.5, colsample_bytree=0.3, min_child_weight=5, subsample=1, nrounds=400 \n",
      "- Fold4: eta=0.05, max_depth=6, gamma=0.5, colsample_bytree=0.3, min_child_weight=5, subsample=1, nrounds=400 \n",
      "+ Fold4: eta=0.05, max_depth=6, gamma=1.0, colsample_bytree=0.3, min_child_weight=1, subsample=1, nrounds=400 \n",
      "- Fold4: eta=0.05, max_depth=6, gamma=1.0, colsample_bytree=0.3, min_child_weight=1, subsample=1, nrounds=400 \n",
      "+ Fold4: eta=0.05, max_depth=6, gamma=1.0, colsample_bytree=0.3, min_child_weight=5, subsample=1, nrounds=400 \n",
      "- Fold4: eta=0.05, max_depth=6, gamma=1.0, colsample_bytree=0.3, min_child_weight=5, subsample=1, nrounds=400 \n",
      "+ Fold4: eta=0.05, max_depth=8, gamma=0.5, colsample_bytree=0.3, min_child_weight=1, subsample=1, nrounds=400 \n",
      "- Fold4: eta=0.05, max_depth=8, gamma=0.5, colsample_bytree=0.3, min_child_weight=1, subsample=1, nrounds=400 \n",
      "+ Fold4: eta=0.05, max_depth=8, gamma=0.5, colsample_bytree=0.3, min_child_weight=5, subsample=1, nrounds=400 \n",
      "- Fold4: eta=0.05, max_depth=8, gamma=0.5, colsample_bytree=0.3, min_child_weight=5, subsample=1, nrounds=400 \n",
      "+ Fold4: eta=0.05, max_depth=8, gamma=1.0, colsample_bytree=0.3, min_child_weight=1, subsample=1, nrounds=400 \n",
      "- Fold4: eta=0.05, max_depth=8, gamma=1.0, colsample_bytree=0.3, min_child_weight=1, subsample=1, nrounds=400 \n",
      "+ Fold4: eta=0.05, max_depth=8, gamma=1.0, colsample_bytree=0.3, min_child_weight=5, subsample=1, nrounds=400 \n",
      "- Fold4: eta=0.05, max_depth=8, gamma=1.0, colsample_bytree=0.3, min_child_weight=5, subsample=1, nrounds=400 \n",
      "+ Fold5: eta=0.05, max_depth=4, gamma=0.5, colsample_bytree=0.3, min_child_weight=1, subsample=1, nrounds=400 \n",
      "- Fold5: eta=0.05, max_depth=4, gamma=0.5, colsample_bytree=0.3, min_child_weight=1, subsample=1, nrounds=400 \n",
      "+ Fold5: eta=0.05, max_depth=4, gamma=0.5, colsample_bytree=0.3, min_child_weight=5, subsample=1, nrounds=400 \n",
      "- Fold5: eta=0.05, max_depth=4, gamma=0.5, colsample_bytree=0.3, min_child_weight=5, subsample=1, nrounds=400 \n",
      "+ Fold5: eta=0.05, max_depth=4, gamma=1.0, colsample_bytree=0.3, min_child_weight=1, subsample=1, nrounds=400 \n",
      "- Fold5: eta=0.05, max_depth=4, gamma=1.0, colsample_bytree=0.3, min_child_weight=1, subsample=1, nrounds=400 \n",
      "+ Fold5: eta=0.05, max_depth=4, gamma=1.0, colsample_bytree=0.3, min_child_weight=5, subsample=1, nrounds=400 \n",
      "- Fold5: eta=0.05, max_depth=4, gamma=1.0, colsample_bytree=0.3, min_child_weight=5, subsample=1, nrounds=400 \n",
      "+ Fold5: eta=0.05, max_depth=6, gamma=0.5, colsample_bytree=0.3, min_child_weight=1, subsample=1, nrounds=400 \n",
      "- Fold5: eta=0.05, max_depth=6, gamma=0.5, colsample_bytree=0.3, min_child_weight=1, subsample=1, nrounds=400 \n",
      "+ Fold5: eta=0.05, max_depth=6, gamma=0.5, colsample_bytree=0.3, min_child_weight=5, subsample=1, nrounds=400 \n",
      "- Fold5: eta=0.05, max_depth=6, gamma=0.5, colsample_bytree=0.3, min_child_weight=5, subsample=1, nrounds=400 \n",
      "+ Fold5: eta=0.05, max_depth=6, gamma=1.0, colsample_bytree=0.3, min_child_weight=1, subsample=1, nrounds=400 \n",
      "- Fold5: eta=0.05, max_depth=6, gamma=1.0, colsample_bytree=0.3, min_child_weight=1, subsample=1, nrounds=400 \n",
      "+ Fold5: eta=0.05, max_depth=6, gamma=1.0, colsample_bytree=0.3, min_child_weight=5, subsample=1, nrounds=400 \n",
      "- Fold5: eta=0.05, max_depth=6, gamma=1.0, colsample_bytree=0.3, min_child_weight=5, subsample=1, nrounds=400 \n",
      "+ Fold5: eta=0.05, max_depth=8, gamma=0.5, colsample_bytree=0.3, min_child_weight=1, subsample=1, nrounds=400 \n",
      "- Fold5: eta=0.05, max_depth=8, gamma=0.5, colsample_bytree=0.3, min_child_weight=1, subsample=1, nrounds=400 \n",
      "+ Fold5: eta=0.05, max_depth=8, gamma=0.5, colsample_bytree=0.3, min_child_weight=5, subsample=1, nrounds=400 \n",
      "- Fold5: eta=0.05, max_depth=8, gamma=0.5, colsample_bytree=0.3, min_child_weight=5, subsample=1, nrounds=400 \n",
      "+ Fold5: eta=0.05, max_depth=8, gamma=1.0, colsample_bytree=0.3, min_child_weight=1, subsample=1, nrounds=400 \n",
      "- Fold5: eta=0.05, max_depth=8, gamma=1.0, colsample_bytree=0.3, min_child_weight=1, subsample=1, nrounds=400 \n",
      "+ Fold5: eta=0.05, max_depth=8, gamma=1.0, colsample_bytree=0.3, min_child_weight=5, subsample=1, nrounds=400 \n",
      "- Fold5: eta=0.05, max_depth=8, gamma=1.0, colsample_bytree=0.3, min_child_weight=5, subsample=1, nrounds=400 \n",
      "Aggregating results\n"
     ]
    },
    {
     "name": "stdout",
     "output_type": "stream",
     "text": [
      "Selecting tuning parameters\n",
      "Fitting nrounds = 200, max_depth = 6, eta = 0.05, gamma = 0.5, colsample_bytree = 0.3, min_child_weight = 1, subsample = 1 on full training set\n",
      "[1] \"Best AUC from model is 0.866588567296256\"\n"
     ]
    }
   ],
   "source": [
    "# Defining training matrices\n",
    "total_X <- as.matrix(data %>% select(-c(SeriousDlqin2yrs)))\n",
    "total_Y <- data$SeriousDlqin2yrs\n",
    "total_matrix <- xgb.DMatrix(data=total_X,label=total_Y)\n",
    "\n",
    "# Setting-up hyperparameter optimization grid\n",
    "# Note that the actual hyper-parameter grid used was much larger than the one below; \n",
    "# but for illustration purposes, this shall do.\n",
    "xgb_grid_1 = expand.grid(\n",
    "  nrounds = c(200,400),\n",
    "  eta = 0.05,\n",
    "  max_depth = c(4,6,8),\n",
    "  gamma = c(0.5,1),\n",
    "  min_child_weight = c(1,5),\n",
    "  colsample_bytree = 0.3,\n",
    "  subsample = 1\n",
    ")\n",
    "\n",
    "# Packing training control parameters; Using a 5-fold CV approach\n",
    "xgb_trcontrol_1 = trainControl(\n",
    "  method = \"cv\",\n",
    "  number = 5,\n",
    "  verboseIter = F,\n",
    "  returnData = F,\n",
    "  returnResamp = \"all\",                       \n",
    "  classProbs = T,\n",
    "  summaryFunction = multiClassSummary,\n",
    "  allowParallel = T\n",
    ")\n",
    "\n",
    "y_1 <- as.factor(total_Y)\n",
    "levels(y_1) <- LETTERS[1:length(unique(y_1))]\n",
    "\n",
    "# Training Loop over hyper-parameter grid\n",
    "xgb_train_1 = train(\n",
    "  x = total_X,\n",
    "  y = as.factor(y_1),\n",
    "  trControl = xgb_trcontrol_1,\n",
    "  tuneGrid = xgb_grid_1,\n",
    "  metric = \"AUC\",\n",
    "  method = \"xgbTree\"\n",
    ")\n",
    "\n",
    "# Best output as per above optimization\n",
    "params <- xgb_train_1$bestTune\n",
    "print(paste(\"Best AUC from model is\", max(xgb_train_1$results$AUC)))"
   ]
  },
  {
   "cell_type": "markdown",
   "metadata": {},
   "source": [
    "The parameter set gave ~0.8691 AUC on Kaggle's private board evaluation **(Implied Rank - 7)** It is possible that the result can get better with a larger hyper-parameter grid, but I decided to spare my laptop the pain. Of course, I have a benefit from hindsight and the fact that I can actually see the private leaderboard.\n",
    "\n",
    "* __nrounds__ (Number of trees) = 200\n",
    "* __max_depth__ (Max depth of each tree) = 6\n",
    "* __eta__ (keeping weak learners weak) = 0.05\n",
    "* __gamma__ (minimum gain required to split node)= 0.5\n",
    "* __colsample_bytree__ (column subsampling for creation of each tree) = 0.3\n",
    "* __min_child_weight__ (min weight in each leaf node) = 5\n",
    "* __subsample__ (row subsampling to create trees) = 1\n",
    "\n",
    "For further details on parameter descriptions, I would redirect you XGBoost's [insightful webpage](http://xgboost.readthedocs.io/en/latest/parameter.html#parameters-for-tree-booster)\n",
    "\n",
    "Next step is to fit the model using the parameters obtained above."
   ]
  },
  {
   "cell_type": "code",
   "execution_count": 7,
   "metadata": {},
   "outputs": [
    {
     "data": {
      "image/png": "[encoded data removed]",
      "text/plain": [
       "plot without title"
      ]
     },
     "metadata": {},
     "output_type": "display_data"
    }
   ],
   "source": [
    "xgb_params <- c(list(objective = \"multi:softprob\",eval_metric = \"auc\",\n",
    "                     num_class = 2),as.list(params %>% select(-nrounds)))\n",
    "fit <- xgb.train(params=xgb_params,data=total_matrix,nrounds=params$nrounds)\n",
    "\n",
    "VarImp_matrix <- xgb.importance(feature_names = dimnames(total_matrix)[[2]], model = fit)\n",
    "xgb.plot.importance(VarImp_matrix, measure = 'Gain')"
   ]
  },
  {
   "cell_type": "markdown",
   "metadata": {},
   "source": [
    "The above chart is known as a 'variable importance plot'. As the name suggests, it shows the importance or 'information gain' that can be attributed to an individual feature. It is important in case we want to trim the fat (eliminate variables that don't contribute as much) or just want to get an understanding of what is really driving variance in the dependent variable.\n",
    "\n",
    "It is clear that *Hybrid Delinquency, Revloving Credit Line Utilization and Debt Ratio* are the most important features. Most engineered features (unfortunately) do not bring much to the table!"
   ]
  },
  {
   "cell_type": "code",
   "execution_count": 8,
   "metadata": {},
   "outputs": [
    {
     "data": {
      "text/html": [
       "<table>\n",
       "<thead><tr><th scope=col>Probability</th></tr></thead>\n",
       "<tbody>\n",
       "\t<tr><td>0.06057938</td></tr>\n",
       "\t<tr><td>0.04931655</td></tr>\n",
       "\t<tr><td>0.02132925</td></tr>\n",
       "\t<tr><td>0.07474942</td></tr>\n",
       "\t<tr><td>0.09511093</td></tr>\n",
       "\t<tr><td>0.02907733</td></tr>\n",
       "</tbody>\n",
       "</table>\n"
      ],
      "text/latex": [
       "\\begin{tabular}{r|l}\n",
       " Probability\\\\\n",
       "\\hline\n",
       "\t 0.06057938\\\\\n",
       "\t 0.04931655\\\\\n",
       "\t 0.02132925\\\\\n",
       "\t 0.07474942\\\\\n",
       "\t 0.09511093\\\\\n",
       "\t 0.02907733\\\\\n",
       "\\end{tabular}\n"
      ],
      "text/markdown": [
       "\n",
       "Probability | \n",
       "|---|---|---|---|---|---|\n",
       "| 0.06057938 | \n",
       "| 0.04931655 | \n",
       "| 0.02132925 | \n",
       "| 0.07474942 | \n",
       "| 0.09511093 | \n",
       "| 0.02907733 | \n",
       "\n",
       "\n"
      ],
      "text/plain": [
       "  Probability\n",
       "1 0.06057938 \n",
       "2 0.04931655 \n",
       "3 0.02132925 \n",
       "4 0.07474942 \n",
       "5 0.09511093 \n",
       "6 0.02907733 "
      ]
     },
     "metadata": {},
     "output_type": "display_data"
    }
   ],
   "source": [
    "test <- read.csv(\"test.csv\")\n",
    "\n",
    "test_rows_missing_income <- is.na(test$MonthlyIncome)\n",
    "test$MonthlyIncome[test_rows_missing_income] <- test$DebtRatio[test_rows_missing_income]\n",
    "test$DebtRatio[test_rows_missing_income] <- 1 / test$DebtRatio[test_rows_missing_income]\n",
    "# test$NumberOfDependents[is.na(test$NumberOfDependents)] <- median_dependents\n",
    "test$NumberOfDependents[is.na(test$NumberOfDependents)] <- 0\n",
    "\n",
    "test$IncomePerCapita <- test$MonthlyIncome / (1 + test$NumberOfDependents)\n",
    "test$IncomePerLoanOrLine <- test$MonthlyIncome / (1 + test$NumberRealEstateLoansOrLines + \n",
    "                                                    test$NumberOfOpenCreditLinesAndLoans)\n",
    "test$HybridDelinquent <- test$NumberOfTimes90DaysLate^2 +\n",
    "  test$NumberOfTime60.89DaysPastDueNotWorse^1.5 +\n",
    "  test$NumberOfTime30.59DaysPastDueNotWorse\n",
    "test$old_age <- 1 * (test$age >= 60)\n",
    "test$new_RevolvingUtilizationOfUnsecuredLines <- pmin(1, test$RevolvingUtilizationOfUnsecuredLines)\n",
    "test$rule29 <- 1 * (test$DebtRatio >= 0.29 & test$DebtRatio < 0.41)\n",
    "test$rule41 <- 1 * (test$DebtRatio >= 0.41)\n",
    "test$round_RevolvingUtilizationOfUnsecuredLines <- 1 * (test$RevolvingUtilizationOfUnsecuredLines > 0 & \n",
    "                                                          round(test$RevolvingUtilizationOfUnsecuredLines,0) == test$RevolvingUtilizationOfUnsecuredLines)\n",
    "test$FirstDigitIncome <- as.numeric(substr(test$MonthlyIncome, 1, 1))\n",
    "test$ProbablySalaried <- 1 * ((test$MonthlyIncome * 12) - floor(test$MonthlyIncome * 12 / 1000) * 1000 == 0)\n",
    "\n",
    "test_matrix <- as.matrix(test[,-1])\n",
    "test_pred_boost <- predict(fit, test_matrix)\n",
    "test_pred_boost <- matrix(test_pred_boost, nrow=2, ncol=length(test_pred_boost)/2) %>% t() %>% data.frame()\n",
    "test_pred_boost <- test_pred_boost[2]\n",
    "names(test_pred_boost) <- \"Probability\"\n",
    "head(test_pred_boost)\n",
    "\n",
    "# write.csv(test_pred_boost,file=\"sampleEntry.csv\")"
   ]
  },
  {
   "cell_type": "markdown",
   "metadata": {},
   "source": [
    "The project was an interesting use-case for boosted trees, since there were very few features (originally, and even post-engineering) and much more instances than features. I think that results could be improved further with larger hyper-parameter grids. Also, my score is over-estimated, since actual competitors wouldn't have the benefit of access to the private leaderboard rankings in real-time! \n",
    "\n",
    "**EDIT**: As it turns out, [some guy](kaggle.com/c/GiveMeSomeCredit/discussion/31514) beat the damn leaderboard armed with just an xgboost (and a GPU!) Goes to show the efficacy of boosting."
   ]
  }
 ],
 "metadata": {
  "kernelspec": {
   "display_name": "R",
   "language": "R",
   "name": "ir"
  },
  "language_info": {
   "codemirror_mode": "r",
   "file_extension": ".r",
   "mimetype": "text/x-r-source",
   "name": "R",
   "pygments_lexer": "r",
   "version": "3.3.1"
  }
 },
 "nbformat": 4,
 "nbformat_minor": 2
}
